{
 "cells": [
  {
   "cell_type": "code",
   "execution_count": 8,
   "id": "6fdce73033c475fb",
   "metadata": {
    "collapsed": true,
    "ExecuteTime": {
     "end_time": "2023-11-16T08:44:03.054851600Z",
     "start_time": "2023-11-16T08:44:03.039123800Z"
    }
   },
   "outputs": [],
   "source": [
    "import aspose.words as aw\n",
    "import os"
   ]
  },
  {
   "cell_type": "code",
   "execution_count": 9,
   "outputs": [],
   "source": [
    "def check_protected(file):\n",
    "    try:\n",
    "        info = aw.FileFormatUtil.detect_file_format(file)\n",
    "        if info.is_encrypted:\n",
    "            print(\"The uploaded file is protected :\" + str(file))\n",
    "        # else:\n",
    "        #     print(\"The uploaded file is not protected\")\n",
    "    except Exception as e:\n",
    "        print(\"Exception in encryptf file\",e)"
   ],
   "metadata": {
    "collapsed": false,
    "ExecuteTime": {
     "end_time": "2023-11-16T08:44:03.717873500Z",
     "start_time": "2023-11-16T08:44:03.701022200Z"
    }
   },
   "id": "cecb08acc0fd770e"
  },
  {
   "cell_type": "code",
   "execution_count": 10,
   "outputs": [],
   "source": [
    "file = r\"D:\\2.CODE\\PYTHON\\AI\\project_putusan\\text_extraction\\data_sample_ha\\Kasus terpidana atas nama PSS.docx\"     #encrypted file\n",
    "check_protected(file)"
   ],
   "metadata": {
    "collapsed": false,
    "ExecuteTime": {
     "end_time": "2023-11-16T08:44:04.680903500Z",
     "start_time": "2023-11-16T08:44:04.660105700Z"
    }
   },
   "id": "initial_id"
  },
  {
   "cell_type": "code",
   "execution_count": 11,
   "outputs": [
    {
     "name": "stdout",
     "output_type": "stream",
     "text": [
      "dir_path :  D:\\2.CODE\\PYTHON\\AI\\project_putusan\\text_extraction\\data_ltkm\\DOC Files\n",
      "The uploaded file is protected :D:\\2.CODE\\PYTHON\\AI\\project_putusan\\text_extraction\\data_ltkm\\DOC Files\\Analisa AS dan Kel_21Des2015_FINAL.doc\n",
      "The uploaded file is protected :D:\\2.CODE\\PYTHON\\AI\\project_putusan\\text_extraction\\data_ltkm\\DOC Files\\Analisa EKH_FINAL INQUIRY.doc\n",
      "The uploaded file is protected :D:\\2.CODE\\PYTHON\\AI\\project_putusan\\text_extraction\\data_ltkm\\DOC Files\\Customer_Profile_a.n._San_Meng.doc\n",
      "The uploaded file is protected :D:\\2.CODE\\PYTHON\\AI\\project_putusan\\text_extraction\\data_ltkm\\DOC Files\\HA AAA Sekuritas.doc\n",
      "Exception in encryptf file Proxy error(FileCorruptedException): The document appears to be corrupted and cannot be loaded. ---> ArgumentOutOfRangeException: Expected a value between 0 and 2815. (Parameter 'index')\n",
      "The uploaded file is protected :D:\\2.CODE\\PYTHON\\AI\\project_putusan\\text_extraction\\data_ltkm\\DOC Files\\HA BYP.doc\n",
      "The uploaded file is protected :D:\\2.CODE\\PYTHON\\AI\\project_putusan\\text_extraction\\data_ltkm\\DOC Files\\HA DWP_08032016_tbr.doc\n",
      "The uploaded file is protected :D:\\2.CODE\\PYTHON\\AI\\project_putusan\\text_extraction\\data_ltkm\\DOC Files\\HA KETIGA MARET 2018 FINAL OKEEEEE.doc\n",
      "The uploaded file is protected :D:\\2.CODE\\PYTHON\\AI\\project_putusan\\text_extraction\\data_ltkm\\DOC Files\\HA Untung dan Kunti.doc\n",
      "The uploaded file is protected :D:\\2.CODE\\PYTHON\\AI\\project_putusan\\text_extraction\\data_ltkm\\DOC Files\\HA_DDPVAP.doc\n",
      "The uploaded file is protected :D:\\2.CODE\\PYTHON\\AI\\project_putusan\\text_extraction\\data_ltkm\\DOC Files\\LHA-PT Kuo Capital Rahardja-Signature Capital.doc\n",
      "The uploaded file is protected :D:\\2.CODE\\PYTHON\\AI\\project_putusan\\text_extraction\\data_ltkm\\DOC Files\\LHA-PT Signature Capital Indonesia.doc\n",
      "The uploaded file is protected :D:\\2.CODE\\PYTHON\\AI\\project_putusan\\text_extraction\\data_ltkm\\DOC Files\\LHA-Robert Tantular-database.doc\n",
      "The uploaded file is protected :D:\\2.CODE\\PYTHON\\AI\\project_putusan\\text_extraction\\data_ltkm\\DOC Files\\LHA-Robert Tantular.doc\n",
      "The uploaded file is protected :D:\\2.CODE\\PYTHON\\AI\\project_putusan\\text_extraction\\data_ltkm\\DOC Files\\LHA-Wilson Margatan-Dewi Tantular.doc\n",
      "The uploaded file is protected :D:\\2.CODE\\PYTHON\\AI\\project_putusan\\text_extraction\\data_ltkm\\DOC Files\\LHS-Kusumawardhani_rev.doc\n",
      "The uploaded file is protected :D:\\2.CODE\\PYTHON\\AI\\project_putusan\\text_extraction\\data_ltkm\\DOC Files\\Permintaan Data Tambahan BRI_ TIM TF15012020.doc\n",
      "The uploaded file is protected :D:\\2.CODE\\PYTHON\\AI\\project_putusan\\text_extraction\\data_ltkm\\DOC Files\\Rekening_LEO_PRAMUKA.doc\n",
      "The uploaded file is protected :D:\\2.CODE\\PYTHON\\AI\\project_putusan\\text_extraction\\data_ltkm\\DOC Files\\Rekening_THOHIR_MUSTADJAB_IR.doc\n",
      "Jumlah file :  4589\n"
     ]
    }
   ],
   "source": [
    "path_dir_doc_ha = r'D:\\2.CODE\\PYTHON\\AI\\project_putusan\\text_extraction\\data_ltkm\\DOC Files'\n",
    "# path_dir_doc_ha = r'D:\\2.CODE\\PYTHON\\AI\\project_putusan\\data_ltkm\\2019'\n",
    "# path_dir_doc_ha = r'D:\\2.CODE\\PYTHON\\AI\\project_putusan\\text_extraction\\input_pdf'\n",
    "print(\"dir_path : \", str(path_dir_doc_ha))\n",
    "dir_path = path_dir_doc_ha\n",
    "j_file = 0\n",
    "for (dir_path, dir_names, file_names) in os.walk(dir_path):\n",
    "    for i in range(len(file_names)):\n",
    "        j_file += 1\n",
    "        text = \"\"\n",
    "        fullpath_file = os.path.join(dir_path, file_names[i])\n",
    "        check_protected(fullpath_file)\n",
    "print(\"Jumlah file : \", str(j_file))"
   ],
   "metadata": {
    "collapsed": false,
    "ExecuteTime": {
     "end_time": "2023-11-16T08:47:36.299194400Z",
     "start_time": "2023-11-16T08:44:05.530653900Z"
    }
   },
   "id": "66fc65d3c95564f"
  },
  {
   "cell_type": "code",
   "execution_count": null,
   "outputs": [],
   "source": [],
   "metadata": {
    "collapsed": false
   },
   "id": "2965dbfdc94575a9"
  }
 ],
 "metadata": {
  "kernelspec": {
   "display_name": "Python 3",
   "language": "python",
   "name": "python3"
  },
  "language_info": {
   "codemirror_mode": {
    "name": "ipython",
    "version": 2
   },
   "file_extension": ".py",
   "mimetype": "text/x-python",
   "name": "python",
   "nbconvert_exporter": "python",
   "pygments_lexer": "ipython2",
   "version": "2.7.6"
  }
 },
 "nbformat": 4,
 "nbformat_minor": 5
}
